{
 "cells": [
  {
   "attachments": {},
   "cell_type": "markdown",
   "metadata": {},
   "source": [
    "**Data cleaning**"
   ]
  },
  {
   "cell_type": "code",
   "execution_count": 1,
   "metadata": {},
   "outputs": [],
   "source": [
    "import pandas as pd\n",
    "import shutil\n",
    "import os\n",
    "from PIL import Image\n",
    "import imagehash\n",
    "import re"
   ]
  },
  {
   "cell_type": "code",
   "execution_count": 2,
   "metadata": {},
   "outputs": [
    {
     "data": {
      "text/html": [
       "<div>\n",
       "<style scoped>\n",
       "    .dataframe tbody tr th:only-of-type {\n",
       "        vertical-align: middle;\n",
       "    }\n",
       "\n",
       "    .dataframe tbody tr th {\n",
       "        vertical-align: top;\n",
       "    }\n",
       "\n",
       "    .dataframe thead th {\n",
       "        text-align: right;\n",
       "    }\n",
       "</style>\n",
       "<table border=\"1\" class=\"dataframe\">\n",
       "  <thead>\n",
       "    <tr style=\"text-align: right;\">\n",
       "      <th></th>\n",
       "      <th>skin_disorder_name</th>\n",
       "      <th>images</th>\n",
       "    </tr>\n",
       "  </thead>\n",
       "  <tbody>\n",
       "    <tr>\n",
       "      <th>0</th>\n",
       "      <td>acne affecting the back images</td>\n",
       "      <td>https://dermnetnz.org/assets/Uploads/acne/acne...</td>\n",
       "    </tr>\n",
       "    <tr>\n",
       "      <th>1</th>\n",
       "      <td>acne affecting the back images</td>\n",
       "      <td>https://dermnetnz.org/assets/Uploads/acne/acne...</td>\n",
       "    </tr>\n",
       "    <tr>\n",
       "      <th>2</th>\n",
       "      <td>acne affecting the back images</td>\n",
       "      <td>https://dermnetnz.org/assets/Uploads/acne/acne...</td>\n",
       "    </tr>\n",
       "    <tr>\n",
       "      <th>3</th>\n",
       "      <td>acne affecting the back images</td>\n",
       "      <td>https://dermnetnz.org/assets/Uploads/acne/acne...</td>\n",
       "    </tr>\n",
       "    <tr>\n",
       "      <th>4</th>\n",
       "      <td>acne affecting the back images</td>\n",
       "      <td>https://dermnetnz.org/assets/Uploads/acne/acne...</td>\n",
       "    </tr>\n",
       "  </tbody>\n",
       "</table>\n",
       "</div>"
      ],
      "text/plain": [
       "               skin_disorder_name  \\\n",
       "0  acne affecting the back images   \n",
       "1  acne affecting the back images   \n",
       "2  acne affecting the back images   \n",
       "3  acne affecting the back images   \n",
       "4  acne affecting the back images   \n",
       "\n",
       "                                              images  \n",
       "0  https://dermnetnz.org/assets/Uploads/acne/acne...  \n",
       "1  https://dermnetnz.org/assets/Uploads/acne/acne...  \n",
       "2  https://dermnetnz.org/assets/Uploads/acne/acne...  \n",
       "3  https://dermnetnz.org/assets/Uploads/acne/acne...  \n",
       "4  https://dermnetnz.org/assets/Uploads/acne/acne...  "
      ]
     },
     "execution_count": 2,
     "metadata": {},
     "output_type": "execute_result"
    }
   ],
   "source": [
    "image_df = pd.read_csv('Data/data1-294.csv')\n",
    "image_df.head()"
   ]
  },
  {
   "attachments": {},
   "cell_type": "markdown",
   "metadata": {},
   "source": [
    "## **Cleaning  acne images**"
   ]
  },
  {
   "cell_type": "code",
   "execution_count": 3,
   "metadata": {},
   "outputs": [
    {
     "data": {
      "text/plain": [
       "array(['acne affecting the back images', 'acne affecting the face images',\n",
       "       'acne and other follicular disorder images', 'facial acne images',\n",
       "       'infantile acne images', 'steroid acne images'], dtype=object)"
      ]
     },
     "execution_count": 3,
     "metadata": {},
     "output_type": "execute_result"
    }
   ],
   "source": [
    "acne_labels = image_df[image_df['skin_disorder_name'].str.contains('acne')]['skin_disorder_name'].unique()\n",
    "acne_labels"
   ]
  },
  {
   "cell_type": "code",
   "execution_count": 4,
   "metadata": {},
   "outputs": [
    {
     "data": {
      "text/plain": [
       "6"
      ]
     },
     "execution_count": 4,
     "metadata": {},
     "output_type": "execute_result"
    }
   ],
   "source": [
    "# There are six labels representing acne\n",
    "len(acne_labels)"
   ]
  },
  {
   "cell_type": "code",
   "execution_count": 5,
   "metadata": {},
   "outputs": [
    {
     "name": "stdout",
     "output_type": "stream",
     "text": [
      "<class 'pandas.core.frame.DataFrame'>\n",
      "Int64Index: 718 entries, 0 to 12648\n",
      "Data columns (total 2 columns):\n",
      " #   Column              Non-Null Count  Dtype \n",
      "---  ------              --------------  ----- \n",
      " 0   skin_disorder_name  718 non-null    object\n",
      " 1   images              718 non-null    object\n",
      "dtypes: object(2)\n",
      "memory usage: 16.8+ KB\n"
     ]
    }
   ],
   "source": [
    "# Crating a dataframe with just acne labels for easier cleaning\n",
    "\n",
    "acne_df = image_df[(image_df['skin_disorder_name'] == acne_labels[0]) | \\\n",
    "                   (image_df['skin_disorder_name'] == acne_labels[1]) | \\\n",
    "                   (image_df['skin_disorder_name'] == acne_labels[2]) | \\\n",
    "                   (image_df['skin_disorder_name'] == acne_labels[3]) | \\\n",
    "                   (image_df['skin_disorder_name'] == acne_labels[4]) | \\\n",
    "                   (image_df['skin_disorder_name'] == acne_labels[5]) \n",
    "                 ]\n",
    "acne_df.info()"
   ]
  },
  {
   "attachments": {},
   "cell_type": "markdown",
   "metadata": {},
   "source": [
    "**i. Moving acne images to their own folder**"
   ]
  },
  {
   "cell_type": "code",
   "execution_count": 6,
   "metadata": {},
   "outputs": [
    {
     "name": "stdout",
     "output_type": "stream",
     "text": [
      "There are 718 acne images\n"
     ]
    },
    {
     "data": {
      "text/plain": [
       "['acne affecting the back images0.jpg',\n",
       " 'acne affecting the back images1.jpg',\n",
       " 'acne affecting the back images10.jpg',\n",
       " 'acne affecting the back images11.jpg',\n",
       " 'acne affecting the back images12.jpg',\n",
       " 'acne affecting the back images13.jpg',\n",
       " 'acne affecting the back images14.jpg',\n",
       " 'acne affecting the back images15.jpg',\n",
       " 'acne affecting the back images16.jpg',\n",
       " 'acne affecting the back images17.jpg']"
      ]
     },
     "execution_count": 6,
     "metadata": {},
     "output_type": "execute_result"
    }
   ],
   "source": [
    "# Getting the acne images file names\n",
    "acne_img = [image_name for image_name in os.listdir('Images/') if 'acne' in image_name] \n",
    "\n",
    "# Confirming the number of acne images before any cleaning\n",
    "print('There are', len(acne_img),'acne images')\n",
    "acne_img[:10]"
   ]
  },
  {
   "cell_type": "code",
   "execution_count": 7,
   "metadata": {},
   "outputs": [],
   "source": [
    "# Creating a new folder with just acne images to make cleaning easier\n",
    "\n",
    "os.mkdir('acne_images/')\n",
    "for img in acne_img:\n",
    "    origin = os.path.join('Images/', img)\n",
    "    destination = os.path.join('acne_images/', img)\n",
    "    shutil.copy(origin, destination)"
   ]
  },
  {
   "cell_type": "code",
   "execution_count": 8,
   "metadata": {},
   "outputs": [
    {
     "name": "stdout",
     "output_type": "stream",
     "text": [
      "There are 718 acne images\n"
     ]
    }
   ],
   "source": [
    "# Confirming that the number of acne images after moving them to a separate folder is still 718\n",
    "acne_img = [image_name for image_name in os.listdir('acne_images/')] \n",
    "print('There are', len(acne_img),'acne images')"
   ]
  },
  {
   "attachments": {},
   "cell_type": "markdown",
   "metadata": {},
   "source": [
    "**ii. Removing duplicated images from the folder**"
   ]
  },
  {
   "cell_type": "code",
   "execution_count": 9,
   "metadata": {},
   "outputs": [
    {
     "name": "stdout",
     "output_type": "stream",
     "text": [
      "Duplicate image deleted: acne and other follicular disorder images369.jpg\n",
      "Duplicate image deleted: acne and other follicular disorder images377.jpg\n",
      "Duplicate image deleted: acne and other follicular disorder images430.jpg\n",
      "Duplicate image deleted: facial acne images4770.jpg\n",
      "Duplicate image deleted: facial acne images4771.png\n",
      "Duplicate image deleted: facial acne images4772.png\n",
      "Duplicate image deleted: facial acne images4773.png\n",
      "Duplicate image deleted: facial acne images4774.png\n",
      "Duplicate image deleted: facial acne images4775.png\n",
      "Duplicate image deleted: facial acne images4776.png\n",
      "Duplicate image deleted: facial acne images4777.png\n",
      "Duplicate image deleted: facial acne images4778.png\n",
      "Duplicate image deleted: facial acne images4779.jpg\n",
      "Duplicate image deleted: facial acne images4780.jpg\n",
      "Duplicate image deleted: facial acne images4781.jpg\n",
      "Duplicate image deleted: facial acne images4782.jpg\n",
      "Duplicate image deleted: facial acne images4783.jpg\n",
      "Duplicate image deleted: facial acne images4784.jpg\n",
      "Duplicate image deleted: facial acne images4785.jpg\n",
      "Duplicate image deleted: facial acne images4786.jpg\n",
      "Duplicate image deleted: facial acne images4787.jpg\n",
      "Duplicate image deleted: facial acne images4788.jpg\n",
      "Duplicate image deleted: facial acne images4789.jpg\n",
      "Duplicate image deleted: facial acne images4790.jpg\n",
      "Duplicate image deleted: facial acne images4791.jpg\n",
      "Duplicate image deleted: facial acne images4792.jpg\n",
      "Duplicate image deleted: facial acne images4793.jpg\n",
      "Duplicate image deleted: facial acne images4794.jpg\n",
      "Duplicate image deleted: facial acne images4795.jpg\n",
      "Duplicate image deleted: facial acne images4796.jpg\n",
      "Duplicate image deleted: facial acne images4797.jpg\n",
      "Duplicate image deleted: facial acne images4798.jpg\n",
      "Duplicate image deleted: facial acne images4799.jpg\n",
      "Duplicate image deleted: facial acne images4800.jpg\n",
      "Duplicate image deleted: facial acne images4801.jpg\n",
      "Duplicate image deleted: facial acne images4802.jpg\n",
      "Duplicate image deleted: facial acne images4803.jpg\n",
      "Duplicate image deleted: facial acne images4804.jpg\n",
      "Duplicate image deleted: facial acne images4805.jpg\n",
      "Duplicate image deleted: facial acne images4806.jpg\n",
      "Duplicate image deleted: facial acne images4807.jpg\n",
      "Duplicate image deleted: facial acne images4808.jpg\n",
      "Duplicate image deleted: facial acne images4809.jpg\n",
      "Duplicate image deleted: facial acne images4810.jpg\n",
      "Duplicate image deleted: facial acne images4811.jpg\n",
      "Duplicate image deleted: facial acne images4812.jpg\n",
      "Duplicate image deleted: facial acne images4813.jpg\n",
      "Duplicate image deleted: facial acne images4814.jpg\n",
      "Duplicate image deleted: facial acne images4815.jpg\n",
      "Duplicate image deleted: facial acne images4816.jpg\n",
      "Duplicate image deleted: facial acne images4817.jpg\n",
      "Duplicate image deleted: facial acne images4818.jpg\n",
      "Duplicate image deleted: facial acne images4819.jpg\n",
      "Duplicate image deleted: facial acne images4820.jpg\n",
      "Duplicate image deleted: facial acne images4821.jpg\n",
      "Duplicate image deleted: facial acne images4822.jpg\n",
      "Duplicate image deleted: facial acne images4823.jpg\n",
      "Duplicate image deleted: facial acne images4824.jpg\n",
      "Duplicate image deleted: facial acne images4825.jpg\n",
      "Duplicate image deleted: facial acne images4826.jpg\n",
      "Duplicate image deleted: facial acne images4827.jpg\n",
      "Duplicate image deleted: facial acne images4828.jpg\n",
      "Duplicate image deleted: facial acne images4829.jpg\n",
      "Duplicate image deleted: facial acne images4830.jpg\n",
      "Duplicate image deleted: facial acne images4831.jpg\n",
      "Duplicate image deleted: facial acne images4832.jpg\n",
      "Duplicate image deleted: facial acne images4833.jpg\n",
      "Duplicate image deleted: facial acne images4834.jpg\n",
      "Duplicate image deleted: facial acne images4835.jpg\n",
      "Duplicate image deleted: facial acne images4836.jpg\n",
      "Duplicate image deleted: facial acne images4837.jpg\n",
      "Duplicate image deleted: facial acne images4838.jpg\n",
      "Duplicate image deleted: facial acne images4839.jpg\n",
      "Duplicate image deleted: facial acne images4840.jpg\n",
      "Duplicate image deleted: facial acne images4841.jpg\n",
      "Duplicate image deleted: facial acne images4842.jpg\n",
      "Duplicate image deleted: facial acne images4843.jpg\n",
      "Duplicate image deleted: facial acne images4844.jpg\n",
      "Duplicate image deleted: facial acne images4845.jpg\n",
      "Duplicate image deleted: facial acne images4846.jpg\n",
      "Duplicate image deleted: facial acne images4847.jpg\n",
      "Duplicate image deleted: facial acne images4848.jpg\n",
      "Duplicate image deleted: facial acne images4849.jpg\n",
      "Duplicate image deleted: facial acne images4850.jpg\n",
      "Duplicate image deleted: facial acne images4851.jpg\n",
      "Duplicate image deleted: facial acne images4852.jpg\n",
      "Duplicate image deleted: facial acne images4853.jpg\n",
      "Duplicate image deleted: facial acne images4854.jpg\n",
      "Duplicate image deleted: facial acne images4855.jpg\n",
      "Duplicate image deleted: facial acne images4856.jpg\n",
      "Duplicate image deleted: facial acne images4857.jpg\n",
      "Duplicate image deleted: facial acne images4858.jpg\n",
      "Duplicate image deleted: facial acne images4859.jpg\n",
      "Duplicate image deleted: facial acne images4860.jpg\n",
      "Duplicate image deleted: facial acne images4861.jpg\n",
      "Duplicate image deleted: facial acne images4862.jpg\n",
      "Duplicate image deleted: facial acne images4863.jpg\n",
      "Duplicate image deleted: facial acne images4864.jpg\n",
      "Duplicate image deleted: facial acne images4865.jpg\n",
      "Duplicate image deleted: facial acne images4866.jpg\n",
      "Duplicate image deleted: facial acne images4867.jpg\n",
      "Duplicate image deleted: facial acne images4868.jpg\n",
      "Duplicate image deleted: facial acne images4869.jpg\n",
      "Duplicate image deleted: facial acne images4870.jpg\n",
      "Duplicate image deleted: facial acne images4871.jpg\n",
      "Duplicate image deleted: facial acne images4872.jpg\n",
      "Duplicate image deleted: facial acne images4873.jpg\n",
      "Duplicate image deleted: facial acne images4874.jpg\n",
      "Duplicate image deleted: facial acne images4875.jpg\n",
      "Duplicate image deleted: facial acne images4876.jpg\n",
      "Duplicate image deleted: facial acne images4877.jpg\n",
      "Duplicate image deleted: facial acne images4878.jpg\n",
      "Duplicate image deleted: facial acne images4879.jpg\n",
      "Duplicate image deleted: facial acne images4880.jpg\n",
      "Duplicate image deleted: facial acne images4881.jpg\n",
      "Duplicate image deleted: facial acne images4882.jpg\n",
      "Duplicate image deleted: facial acne images4883.jpg\n",
      "Duplicate image deleted: facial acne images4884.jpg\n",
      "Duplicate image deleted: facial acne images4885.jpg\n",
      "Duplicate image deleted: facial acne images4886.jpg\n",
      "Duplicate image deleted: facial acne images4887.jpg\n",
      "Duplicate image deleted: facial acne images4888.jpg\n",
      "Duplicate image deleted: facial acne images4889.jpg\n",
      "Duplicate image deleted: facial acne images4890.jpg\n",
      "Duplicate image deleted: facial acne images4891.jpg\n",
      "Duplicate image deleted: facial acne images4892.jpg\n",
      "Duplicate image deleted: facial acne images4893.jpg\n",
      "Duplicate image deleted: facial acne images4894.jpg\n",
      "Duplicate image deleted: facial acne images4895.jpg\n",
      "Duplicate image deleted: facial acne images4896.jpg\n",
      "Duplicate image deleted: facial acne images4897.jpg\n",
      "Duplicate image deleted: facial acne images4898.jpg\n",
      "Duplicate image deleted: facial acne images4899.jpg\n",
      "Duplicate image deleted: facial acne images4900.jpg\n",
      "Duplicate image deleted: facial acne images4901.jpg\n",
      "Duplicate image deleted: facial acne images4902.jpg\n",
      "Duplicate image deleted: facial acne images4903.jpg\n",
      "Duplicate image deleted: facial acne images4904.jpg\n",
      "Duplicate image deleted: facial acne images4905.jpg\n",
      "Duplicate image deleted: facial acne images4906.jpg\n",
      "Duplicate image deleted: facial acne images4907.jpg\n",
      "Duplicate image deleted: facial acne images4908.jpg\n",
      "Duplicate image deleted: facial acne images4909.jpg\n",
      "Duplicate image deleted: facial acne images4910.jpg\n",
      "Duplicate image deleted: facial acne images4911.jpg\n",
      "Duplicate image deleted: facial acne images4912.jpg\n",
      "Duplicate image deleted: facial acne images4913.jpg\n",
      "Duplicate image deleted: facial acne images4914.jpg\n",
      "Duplicate image deleted: facial acne images4915.jpg\n",
      "Duplicate image deleted: facial acne images4916.jpg\n",
      "Duplicate image deleted: facial acne images4917.jpg\n",
      "Duplicate image deleted: facial acne images4918.jpg\n",
      "Duplicate image deleted: facial acne images4919.jpg\n",
      "Duplicate image deleted: facial acne images4920.jpg\n",
      "Duplicate image deleted: facial acne images4921.jpg\n",
      "Duplicate image deleted: facial acne images4922.jpg\n",
      "Duplicate image deleted: facial acne images4923.jpg\n",
      "Duplicate image deleted: facial acne images4924.jpg\n",
      "Duplicate image deleted: facial acne images4925.jpg\n",
      "Duplicate image deleted: facial acne images4926.jpg\n",
      "Duplicate image deleted: facial acne images4927.jpg\n",
      "Duplicate image deleted: facial acne images4928.jpg\n",
      "Duplicate image deleted: facial acne images4929.jpg\n",
      "Duplicate image deleted: facial acne images4930.jpg\n",
      "Duplicate image deleted: facial acne images4931.jpg\n",
      "Duplicate image deleted: facial acne images4932.jpg\n",
      "Duplicate image deleted: facial acne images4933.jpg\n",
      "Duplicate image deleted: facial acne images4934.jpg\n",
      "Duplicate image deleted: facial acne images4935.jpg\n",
      "Duplicate image deleted: facial acne images4936.jpg\n",
      "Duplicate image deleted: facial acne images4937.jpg\n",
      "Duplicate image deleted: facial acne images4938.jpg\n",
      "Duplicate image deleted: facial acne images4939.jpg\n",
      "Duplicate image deleted: facial acne images4940.jpg\n",
      "Duplicate image deleted: facial acne images4941.jpg\n",
      "Duplicate image deleted: facial acne images4942.jpg\n",
      "Duplicate image deleted: facial acne images4943.jpg\n",
      "Duplicate image deleted: facial acne images4944.jpg\n",
      "Duplicate image deleted: facial acne images4945.jpg\n",
      "Duplicate image deleted: facial acne images4946.jpg\n",
      "Duplicate image deleted: facial acne images4947.jpg\n",
      "Duplicate image deleted: facial acne images4948.jpg\n",
      "Duplicate image deleted: facial acne images4949.jpg\n",
      "Duplicate image deleted: facial acne images4950.jpg\n",
      "Duplicate image deleted: facial acne images4951.jpg\n",
      "Duplicate image deleted: facial acne images4952.jpg\n",
      "Duplicate image deleted: facial acne images4953.jpg\n",
      "Duplicate image deleted: facial acne images4954.jpg\n",
      "Duplicate image deleted: facial acne images4955.jpg\n",
      "Duplicate image deleted: facial acne images4956.jpg\n",
      "Duplicate image deleted: facial acne images4957.jpg\n",
      "Duplicate image deleted: facial acne images4958.jpg\n",
      "Duplicate image deleted: facial acne images4959.jpg\n",
      "Duplicate image deleted: facial acne images4960.jpg\n",
      "Duplicate image deleted: facial acne images4961.jpg\n",
      "Duplicate image deleted: facial acne images4962.jpg\n",
      "Duplicate image deleted: facial acne images4963.jpg\n",
      "Duplicate image deleted: facial acne images4964.jpg\n",
      "Duplicate image deleted: facial acne images4965.jpg\n",
      "Duplicate image deleted: facial acne images4966.jpg\n",
      "Duplicate image deleted: facial acne images4967.png\n",
      "Duplicate image deleted: facial acne images4968.jpg\n",
      "Duplicate image deleted: facial acne images4969.jpg\n",
      "Duplicate image deleted: facial acne images4970.jpg\n",
      "Duplicate image deleted: facial acne images4971.jpg\n",
      "Duplicate image deleted: facial acne images4972.jpg\n",
      "Duplicate image deleted: facial acne images4973.jpg\n",
      "Duplicate image deleted: facial acne images4974.jpg\n",
      "Duplicate image deleted: facial acne images4975.jpg\n",
      "Duplicate image deleted: facial acne images4976.jpg\n",
      "Duplicate image deleted: facial acne images4977.jpg\n",
      "Duplicate image deleted: facial acne images4978.jpg\n",
      "Duplicate image deleted: facial acne images4979.jpg\n",
      "Duplicate image deleted: facial acne images4980.jpg\n",
      "Duplicate image deleted: facial acne images4981.jpg\n",
      "Duplicate image deleted: facial acne images4982.jpg\n",
      "Duplicate image deleted: facial acne images4983.jpg\n",
      "Duplicate image deleted: facial acne images4984.jpg\n",
      "Duplicate image deleted: facial acne images4985.jpg\n",
      "Duplicate image deleted: facial acne images4986.jpg\n",
      "Duplicate image deleted: facial acne images4987.jpg\n",
      "Duplicate image deleted: facial acne images4988.jpg\n",
      "Duplicate image deleted: facial acne images4989.jpg\n",
      "Duplicate image deleted: facial acne images4990.jpg\n",
      "Duplicate image deleted: facial acne images4991.jpg\n",
      "Duplicate image deleted: facial acne images4992.jpg\n",
      "Duplicate image deleted: facial acne images4993.jpg\n",
      "Duplicate image deleted: facial acne images4994.jpg\n",
      "Duplicate image deleted: facial acne images4995.jpg\n",
      "Duplicate image deleted: facial acne images4996.jpg\n",
      "Duplicate image deleted: facial acne images4997.jpg\n",
      "Duplicate image deleted: facial acne images4998.jpg\n",
      "Duplicate image deleted: facial acne images4999.jpg\n",
      "Duplicate image deleted: facial acne images5000.jpg\n",
      "Duplicate image deleted: facial acne images5001.jpg\n",
      "Duplicate image deleted: facial acne images5002.jpg\n",
      "Duplicate image deleted: facial acne images5003.jpg\n",
      "Duplicate image deleted: facial acne images5004.jpg\n",
      "Duplicate image deleted: facial acne images5005.jpg\n",
      "Duplicate image deleted: facial acne images5006.jpg\n",
      "Duplicate image deleted: facial acne images5007.jpg\n",
      "Duplicate image deleted: facial acne images5008.jpg\n",
      "Duplicate image deleted: facial acne images5009.jpg\n",
      "Duplicate image deleted: facial acne images5010.jpg\n",
      "Duplicate image deleted: facial acne images5011.jpg\n",
      "Duplicate image deleted: facial acne images5012.jpg\n",
      "Duplicate image deleted: facial acne images5013.jpg\n",
      "Duplicate image deleted: facial acne images5014.jpg\n",
      "Duplicate image deleted: facial acne images5015.jpg\n",
      "Duplicate image deleted: facial acne images5016.jpg\n",
      "Duplicate image deleted: facial acne images5017.jpg\n",
      "Duplicate image deleted: facial acne images5018.jpg\n",
      "Duplicate image deleted: facial acne images5019.jpg\n",
      "Duplicate image deleted: facial acne images5020.jpg\n",
      "Duplicate image deleted: facial acne images5021.jpg\n",
      "Duplicate image deleted: facial acne images5022.png\n",
      "Duplicate image deleted: facial acne images5023.jpg\n",
      "Duplicate image deleted: infantile acne images6788.jpg\n",
      "Duplicate image deleted: infantile acne images6789.jpg\n",
      "Duplicate image deleted: infantile acne images6790.jpg\n",
      "Duplicate image deleted: infantile acne images6791.jpg\n"
     ]
    }
   ],
   "source": [
    "# Define a threshold for image similarity\n",
    "threshold = 8\n",
    "\n",
    "\n",
    "# Define a dictionary to store the hash values and file paths of the images\n",
    "image_hashes = {}\n",
    "duplicated_images = []\n",
    "# Loop through all the image files in a directory\n",
    "for filename in os.listdir(\"acne_images\"):\n",
    "    # Load the image file\n",
    "    image = Image.open(os.path.join(\"acne_images\", filename))\n",
    "\n",
    "    # Compute the hash value of the image using the average hash algorithm\n",
    "    hash_value = imagehash.average_hash(image)\n",
    "\n",
    "    # Check if the hash value is already in the dictionary\n",
    "    if hash_value in image_hashes:\n",
    "        # If a similar hash value already exists, delete the duplicate image\n",
    "        duplicated_images.append(filename)\n",
    "        os.remove(os.path.join(\"acne_images\", filename))\n",
    "        print(f\"Duplicate image deleted: {filename}\")\n",
    "    else:\n",
    "        # Otherwise, add the hash value and file path to the dictionary\n",
    "        image_hashes[hash_value] = os.path.join(\"acne_images\", filename)"
   ]
  },
  {
   "cell_type": "code",
   "execution_count": 10,
   "metadata": {},
   "outputs": [
    {
     "name": "stdout",
     "output_type": "stream",
     "text": [
      "There are 457 acne images after removing duplicated images\n"
     ]
    }
   ],
   "source": [
    "acne_img = [image_name for image_name in os.listdir('acne_images/')] \n",
    "print('There are', len(acne_img),'acne images after removing duplicated images')"
   ]
  },
  {
   "cell_type": "code",
   "execution_count": 11,
   "metadata": {},
   "outputs": [
    {
     "data": {
      "text/plain": [
       "[369, 377, 430, 4770, 4771, 4772, 4773, 4774, 4775, 4776]"
      ]
     },
     "execution_count": 11,
     "metadata": {},
     "output_type": "execute_result"
    }
   ],
   "source": [
    "# Getting the indexes of the duplicated images so that they can be dropped from the acne_df too.\n",
    "duplicated_indexes = []\n",
    "for img_name in duplicated_images:\n",
    "    match = re.search(r'\\d+', img_name)\n",
    "    if match:\n",
    "        number = match.group()\n",
    "        duplicated_indexes.append(int(number))\n",
    "duplicated_indexes[:10]"
   ]
  },
  {
   "cell_type": "code",
   "execution_count": 12,
   "metadata": {},
   "outputs": [
    {
     "name": "stdout",
     "output_type": "stream",
     "text": [
      "<class 'pandas.core.frame.DataFrame'>\n",
      "Int64Index: 457 entries, 0 to 12648\n",
      "Data columns (total 2 columns):\n",
      " #   Column              Non-Null Count  Dtype \n",
      "---  ------              --------------  ----- \n",
      " 0   skin_disorder_name  457 non-null    object\n",
      " 1   images              457 non-null    object\n",
      "dtypes: object(2)\n",
      "memory usage: 10.7+ KB\n"
     ]
    }
   ],
   "source": [
    "# Dropping duplicated images from the dataframe.\n",
    "acne_df = acne_df.copy()\n",
    "acne_df.drop(duplicated_indexes, axis=0, inplace=True)\n",
    "acne_df.info()"
   ]
  },
  {
   "attachments": {},
   "cell_type": "markdown",
   "metadata": {},
   "source": [
    "**i. Acne**"
   ]
  },
  {
   "attachments": {},
   "cell_type": "markdown",
   "metadata": {},
   "source": [
    "Acne affecting the back images, Acne affecting the face images all have correct images. The Only change that will be made is changing the name to acne. </br>\n",
    "Acne and other follicular disorder images has a collection of different images. Only images that have acne as a specific label will be included, the others will be dropped from the dataset. </br>\n",
    "***\n",
    "***Dealing with the collection of different images in Acne and other follicular disorder images***</br>\n",
    "After careful evaluation of the images, the images that represent acne are:</br>\n",
    ">>> ***[299, 301, 302, 305, 306, 312, 324, 327, 331, 332, 334, 335, 336, </br>\n",
    "                340, 352, 353, 356, 357, 358, 360, 365, 370, 379, 383, 386, 391, </br>\n",
    "                394, 399, 400, 401, 404, 406, 407, 410, 410, 412, 414, 418, 435, </br>\n",
    "                439, 440, 442]***"
   ]
  },
  {
   "cell_type": "code",
   "execution_count": 13,
   "metadata": {},
   "outputs": [],
   "source": [
    "# indexes of the images in 'acne and other follicular disorder images'\n",
    "indexes = acne_df[acne_df['skin_disorder_name'] == 'acne and other follicular disorder images'].index\n",
    "\n",
    "# indexes of the acne images in 'acne and other follicular disorder images'\n",
    "acne_indexes = [299, 301, 302, 305, 306, 312, 324, 327, 331, 332, 334, 335, 336,\n",
    "                340, 352, 353, 356, 357, 358, 360, 365, 370, 379, 383, 386, 391,\n",
    "                394, 399, 400, 401, 404, 406, 407, 410, 410, 412, 414, 418, 435,\n",
    "                439, 440, 442]\n",
    "\n",
    "# indexes of the other follicular disorder images in 'acne and other follicular disorder images'. This indexes will be dropped.\n",
    "to_drop = []\n",
    "\n",
    "for index in  indexes:\n",
    "    if index not in acne_indexes:\n",
    "        to_drop.append(index)\n",
    "\n",
    "# dropping indexes in to_drop\n",
    "acne_df.drop(to_drop, axis = 0, inplace=True)"
   ]
  },
  {
   "cell_type": "code",
   "execution_count": 14,
   "metadata": {},
   "outputs": [
    {
     "data": {
      "text/plain": [
       "(348, 2)"
      ]
     },
     "execution_count": 14,
     "metadata": {},
     "output_type": "execute_result"
    }
   ],
   "source": [
    "# After dropping non-acne images, we still have 328 images left\n",
    "acne_df.shape"
   ]
  },
  {
   "cell_type": "code",
   "execution_count": 15,
   "metadata": {},
   "outputs": [
    {
     "name": "stdout",
     "output_type": "stream",
     "text": [
      "There are 348 acne images left.\n"
     ]
    }
   ],
   "source": [
    "# dropping those images from the acne_images folder\n",
    "\n",
    "# Finding the image file names to be dropped from the folder\n",
    "img_to_drop = []\n",
    "for index in to_drop:\n",
    "    for img_name in acne_img:\n",
    "        if str(index) in img_name:\n",
    "            img_to_drop.append(img_name)\n",
    "\n",
    "# Dropping those images form the acne_images folder\n",
    "for filename in img_to_drop:\n",
    "    os.remove(os.path.join(\"acne_images\", filename))\n",
    "\n",
    "# Confirming that the number of images left is 328\n",
    "acne_img = [image_name for image_name in os.listdir('acne_images/')] \n",
    "print('There are', len(acne_img),'acne images left.')"
   ]
  },
  {
   "attachments": {},
   "cell_type": "markdown",
   "metadata": {},
   "source": [
    "## **Cleaning  Eczema images**"
   ]
  },
  {
   "cell_type": "code",
   "execution_count": 16,
   "metadata": {},
   "outputs": [
    {
     "data": {
      "text/plain": [
       "8"
      ]
     },
     "execution_count": 16,
     "metadata": {},
     "output_type": "execute_result"
    }
   ],
   "source": [
    "eczema_labels = image_df[(image_df['skin_disorder_name'].str.contains('eczema')) | \\\n",
    "                         (image_df['skin_disorder_name'].str.contains('atopic dermatitis images')) |\\\n",
    "                         (image_df['skin_disorder_name'].str.contains('hand dermatitis images')) |\\\n",
    "                         (image_df['skin_disorder_name'] == 'dermatitis images') |\\\n",
    "                         (image_df['skin_disorder_name'].str.contains('nummular dermatitis images'))] \\\n",
    "                         ['skin_disorder_name'].unique()\n",
    "len(eczema_labels)"
   ]
  },
  {
   "cell_type": "code",
   "execution_count": 17,
   "metadata": {},
   "outputs": [
    {
     "name": "stdout",
     "output_type": "stream",
     "text": [
      "<class 'pandas.core.frame.DataFrame'>\n",
      "Int64Index: 631 entries, 1058 to 8989\n",
      "Data columns (total 2 columns):\n",
      " #   Column              Non-Null Count  Dtype \n",
      "---  ------              --------------  ----- \n",
      " 0   skin_disorder_name  631 non-null    object\n",
      " 1   images              631 non-null    object\n",
      "dtypes: object(2)\n",
      "memory usage: 14.8+ KB\n"
     ]
    }
   ],
   "source": [
    "# Crating a dataframe with just eczema labels for easier cleaning\n",
    "\n",
    "eczema_df = image_df[(image_df['skin_disorder_name'] == eczema_labels[0]) | \\\n",
    "                     (image_df['skin_disorder_name'] == eczema_labels[1]) | \\\n",
    "                     (image_df['skin_disorder_name'] == eczema_labels[2]) | \\\n",
    "                     (image_df['skin_disorder_name'] == eczema_labels[3]) | \\\n",
    "                     (image_df['skin_disorder_name'] == eczema_labels[4]) | \\\n",
    "                     (image_df['skin_disorder_name'] == eczema_labels[5]) | \\\n",
    "                     (image_df['skin_disorder_name'] == eczema_labels[6]) | \\\n",
    "                     (image_df['skin_disorder_name'] == eczema_labels[7]) \n",
    "                 ]\n",
    "eczema_df.info()"
   ]
  },
  {
   "attachments": {},
   "cell_type": "markdown",
   "metadata": {},
   "source": [
    "**i. Moving eczema images to their own folder**"
   ]
  },
  {
   "cell_type": "code",
   "execution_count": 18,
   "metadata": {},
   "outputs": [
    {
     "name": "stdout",
     "output_type": "stream",
     "text": [
      "There are 631 eczema images\n"
     ]
    },
    {
     "data": {
      "text/plain": [
       "['atopic dermatitis images1058.jpg',\n",
       " 'atopic dermatitis images1059.jpg',\n",
       " 'atopic dermatitis images1060.jpg',\n",
       " 'atopic dermatitis images1061.jpg',\n",
       " 'atopic dermatitis images1062.jpg',\n",
       " 'atopic dermatitis images1063.jpg',\n",
       " 'atopic dermatitis images1064.jpg',\n",
       " 'atopic dermatitis images1065.jpg',\n",
       " 'atopic dermatitis images1066.jpg',\n",
       " 'atopic dermatitis images1067.jpg']"
      ]
     },
     "execution_count": 18,
     "metadata": {},
     "output_type": "execute_result"
    }
   ],
   "source": [
    "# Getting the eczema images file names\n",
    "eczema_img = [image_name for image_name in os.listdir('Images/') if ('eczema' in image_name) |\n",
    "                                                                    ('atopic dermatitis images' in image_name) |\n",
    "                                                                    ('hand dermatitis images' in image_name) | \n",
    "                                                                    (image_name.startswith('dermatitis images'))|\n",
    "                                                                    ('nummular dermatitis images' in image_name)\n",
    "                                                                     ] \n",
    "\n",
    "# Confirming the number of eczema images before any cleaning\n",
    "print('There are', len(eczema_img),'eczema images')\n",
    "eczema_img[:10]"
   ]
  },
  {
   "cell_type": "code",
   "execution_count": 19,
   "metadata": {},
   "outputs": [],
   "source": [
    "# Creating a new folder with just eczema images to make cleaning easier\n",
    "\n",
    "os.mkdir('eczema_images/')\n",
    "for img in eczema_img:\n",
    "    origin = os.path.join('Images/', img)\n",
    "    destination = os.path.join('eczema_images/', img)\n",
    "    shutil.copy(origin, destination)"
   ]
  },
  {
   "cell_type": "code",
   "execution_count": 20,
   "metadata": {},
   "outputs": [
    {
     "name": "stdout",
     "output_type": "stream",
     "text": [
      "There are 631  eczema images\n"
     ]
    }
   ],
   "source": [
    "# Confirming that the number of eczema images after moving them to a separate folder is still 631\n",
    "eczema_img = [image_name for image_name in os.listdir('eczema_images/')] \n",
    "print('There are', len(eczema_img),' eczema images')"
   ]
  },
  {
   "attachments": {},
   "cell_type": "markdown",
   "metadata": {},
   "source": [
    "**ii. Removing duplicated images from the folder**"
   ]
  },
  {
   "cell_type": "code",
   "execution_count": 21,
   "metadata": {},
   "outputs": [
    {
     "name": "stdout",
     "output_type": "stream",
     "text": [
      "Duplicate image deleted: atopic eczema images1147.jpg\n",
      "Duplicate image deleted: atopic eczema images1148.jpg\n",
      "Duplicate image deleted: atopic eczema images1149.jpg\n",
      "Duplicate image deleted: atopic eczema images1150.jpg\n",
      "Duplicate image deleted: atopic eczema images1151.jpg\n",
      "Duplicate image deleted: atopic eczema images1152.jpg\n",
      "Duplicate image deleted: atopic eczema images1153.jpg\n",
      "Duplicate image deleted: atopic eczema images1154.jpg\n",
      "Duplicate image deleted: atopic eczema images1155.jpg\n",
      "Duplicate image deleted: atopic eczema images1156.jpg\n",
      "Duplicate image deleted: atopic eczema images1157.jpg\n",
      "Duplicate image deleted: atopic eczema images1158.jpg\n",
      "Duplicate image deleted: atopic eczema images1159.jpg\n",
      "Duplicate image deleted: atopic eczema images1160.jpg\n",
      "Duplicate image deleted: atopic eczema images1161.jpg\n",
      "Duplicate image deleted: atopic eczema images1162.jpg\n",
      "Duplicate image deleted: atopic eczema images1163.jpg\n",
      "Duplicate image deleted: atopic eczema images1164.jpg\n",
      "Duplicate image deleted: atopic eczema images1165.jpg\n",
      "Duplicate image deleted: atopic eczema images1166.jpg\n",
      "Duplicate image deleted: atopic eczema images1167.jpg\n",
      "Duplicate image deleted: atopic eczema images1168.jpg\n",
      "Duplicate image deleted: atopic eczema images1169.jpg\n",
      "Duplicate image deleted: atopic eczema images1170.jpg\n",
      "Duplicate image deleted: atopic eczema images1171.jpg\n",
      "Duplicate image deleted: atopic eczema images1172.jpg\n",
      "Duplicate image deleted: atopic eczema images1173.jpg\n",
      "Duplicate image deleted: atopic eczema images1174.jpg\n",
      "Duplicate image deleted: atopic eczema images1175.jpg\n",
      "Duplicate image deleted: atopic eczema images1176.jpg\n",
      "Duplicate image deleted: atopic eczema images1177.jpg\n",
      "Duplicate image deleted: atopic eczema images1178.jpg\n",
      "Duplicate image deleted: atopic eczema images1179.jpg\n",
      "Duplicate image deleted: atopic eczema images1180.jpg\n",
      "Duplicate image deleted: atopic eczema images1181.jpg\n",
      "Duplicate image deleted: atopic eczema images1182.jpg\n",
      "Duplicate image deleted: atopic eczema images1183.jpg\n",
      "Duplicate image deleted: atopic eczema images1184.jpg\n",
      "Duplicate image deleted: atopic eczema images1185.jpg\n",
      "Duplicate image deleted: atopic eczema images1186.jpg\n",
      "Duplicate image deleted: atopic eczema images1187.jpg\n",
      "Duplicate image deleted: atopic eczema images1188.jpg\n",
      "Duplicate image deleted: atopic eczema images1189.jpg\n",
      "Duplicate image deleted: atopic eczema images1190.jpg\n",
      "Duplicate image deleted: atopic eczema images1191.jpg\n",
      "Duplicate image deleted: atopic eczema images1192.jpg\n",
      "Duplicate image deleted: atopic eczema images1193.jpg\n",
      "Duplicate image deleted: atopic eczema images1194.jpg\n",
      "Duplicate image deleted: atopic eczema images1195.jpg\n",
      "Duplicate image deleted: atopic eczema images1196.jpg\n",
      "Duplicate image deleted: atopic eczema images1197.jpg\n",
      "Duplicate image deleted: atopic eczema images1198.jpg\n",
      "Duplicate image deleted: atopic eczema images1199.jpg\n",
      "Duplicate image deleted: atopic eczema images1200.jpg\n",
      "Duplicate image deleted: atopic eczema images1201.jpg\n",
      "Duplicate image deleted: atopic eczema images1202.jpg\n",
      "Duplicate image deleted: atopic eczema images1203.jpg\n",
      "Duplicate image deleted: atopic eczema images1204.jpg\n",
      "Duplicate image deleted: atopic eczema images1205.jpg\n",
      "Duplicate image deleted: atopic eczema images1206.jpg\n",
      "Duplicate image deleted: atopic eczema images1207.jpg\n",
      "Duplicate image deleted: atopic eczema images1208.jpg\n",
      "Duplicate image deleted: atopic eczema images1209.jpg\n",
      "Duplicate image deleted: atopic eczema images1210.jpg\n",
      "Duplicate image deleted: atopic eczema images1211.jpg\n",
      "Duplicate image deleted: atopic eczema images1212.jpg\n",
      "Duplicate image deleted: atopic eczema images1213.jpg\n",
      "Duplicate image deleted: atopic eczema images1214.jpg\n",
      "Duplicate image deleted: atopic eczema images1215.jpg\n",
      "Duplicate image deleted: atopic eczema images1216.jpg\n",
      "Duplicate image deleted: atopic eczema images1217.jpg\n",
      "Duplicate image deleted: atopic eczema images1218.jpg\n",
      "Duplicate image deleted: atopic eczema images1219.jpg\n",
      "Duplicate image deleted: atopic eczema images1220.jpg\n",
      "Duplicate image deleted: atopic eczema images1221.jpg\n",
      "Duplicate image deleted: atopic eczema images1222.jpg\n",
      "Duplicate image deleted: atopic eczema images1223.jpg\n",
      "Duplicate image deleted: atopic eczema images1224.jpg\n",
      "Duplicate image deleted: atopic eczema images1225.jpg\n",
      "Duplicate image deleted: atopic eczema images1226.jpg\n",
      "Duplicate image deleted: atopic eczema images1227.jpg\n",
      "Duplicate image deleted: atopic eczema images1228.jpg\n",
      "Duplicate image deleted: atopic eczema images1229.jpg\n",
      "Duplicate image deleted: atopic eczema images1230.jpg\n",
      "Duplicate image deleted: atopic eczema images1231.jpg\n",
      "Duplicate image deleted: atopic eczema images1232.png\n",
      "Duplicate image deleted: atopic eczema images1233.png\n",
      "Duplicate image deleted: atopic eczema images1234.jpg\n",
      "Duplicate image deleted: atopic eczema images1235.jpg\n",
      "Duplicate image deleted: atopic flexural eczema images1249.jpg\n",
      "Duplicate image deleted: dermatitis images3414.jpg\n",
      "Duplicate image deleted: dermatitis images3415.jpg\n",
      "Duplicate image deleted: dermatitis images3416.jpg\n",
      "Duplicate image deleted: dermatitis images3417.jpg\n",
      "Duplicate image deleted: dermatitis images3418.jpg\n",
      "Duplicate image deleted: dermatitis images3419.jpg\n",
      "Duplicate image deleted: dermatitis images3420.jpg\n",
      "Duplicate image deleted: dermatitis images3421.jpg\n",
      "Duplicate image deleted: dermatitis images3422.jpg\n",
      "Duplicate image deleted: dermatitis images3423.jpg\n",
      "Duplicate image deleted: dermatitis images3424.jpg\n",
      "Duplicate image deleted: dermatitis images3425.jpg\n",
      "Duplicate image deleted: dermatitis images3426.jpg\n",
      "Duplicate image deleted: dermatitis images3427.jpg\n",
      "Duplicate image deleted: dermatitis images3428.jpg\n",
      "Duplicate image deleted: dermatitis images3429.jpg\n",
      "Duplicate image deleted: dermatitis images3430.jpg\n",
      "Duplicate image deleted: dermatitis images3431.jpg\n",
      "Duplicate image deleted: dermatitis images3432.jpg\n",
      "Duplicate image deleted: dermatitis images3433.jpg\n",
      "Duplicate image deleted: dermatitis images3434.jpg\n",
      "Duplicate image deleted: dermatitis images3435.jpg\n",
      "Duplicate image deleted: dermatitis images3436.jpg\n",
      "Duplicate image deleted: dermatitis images3437.jpg\n",
      "Duplicate image deleted: dermatitis images3438.jpg\n",
      "Duplicate image deleted: dermatitis images3439.jpg\n",
      "Duplicate image deleted: dermatitis images3440.jpg\n",
      "Duplicate image deleted: dermatitis images3441.jpg\n",
      "Duplicate image deleted: dermatitis images3442.jpg\n",
      "Duplicate image deleted: dermatitis images3443.jpg\n",
      "Duplicate image deleted: dermatitis images3444.jpg\n",
      "Duplicate image deleted: dermatitis images3445.jpg\n",
      "Duplicate image deleted: dermatitis images3446.jpg\n",
      "Duplicate image deleted: dermatitis images3447.jpg\n",
      "Duplicate image deleted: dermatitis images3448.jpg\n",
      "Duplicate image deleted: dermatitis images3449.jpg\n",
      "Duplicate image deleted: dermatitis images3450.jpg\n",
      "Duplicate image deleted: dermatitis images3451.jpg\n",
      "Duplicate image deleted: dermatitis images3452.jpg\n",
      "Duplicate image deleted: dermatitis images3453.jpg\n",
      "Duplicate image deleted: dermatitis images3454.jpg\n",
      "Duplicate image deleted: dermatitis images3455.jpg\n",
      "Duplicate image deleted: dermatitis images3456.jpg\n",
      "Duplicate image deleted: dermatitis images3457.jpg\n",
      "Duplicate image deleted: dermatitis images3458.jpg\n",
      "Duplicate image deleted: dermatitis images3459.jpg\n",
      "Duplicate image deleted: dermatitis images3460.jpg\n",
      "Duplicate image deleted: dermatitis images3461.jpg\n",
      "Duplicate image deleted: dermatitis images3462.jpg\n",
      "Duplicate image deleted: dermatitis images3463.jpg\n",
      "Duplicate image deleted: dermatitis images3464.jpg\n",
      "Duplicate image deleted: dermatitis images3465.jpg\n",
      "Duplicate image deleted: dermatitis images3466.jpg\n",
      "Duplicate image deleted: dermatitis images3467.jpg\n",
      "Duplicate image deleted: dermatitis images3468.jpg\n",
      "Duplicate image deleted: dermatitis images3469.jpg\n",
      "Duplicate image deleted: dermatitis images3470.jpg\n",
      "Duplicate image deleted: dermatitis images3471.jpg\n",
      "Duplicate image deleted: dermatitis images3472.jpg\n",
      "Duplicate image deleted: dermatitis images3473.jpg\n",
      "Duplicate image deleted: dermatitis images3474.jpg\n",
      "Duplicate image deleted: dermatitis images3475.jpg\n",
      "Duplicate image deleted: dermatitis images3476.jpg\n",
      "Duplicate image deleted: dermatitis images3477.jpg\n",
      "Duplicate image deleted: dermatitis images3478.jpg\n",
      "Duplicate image deleted: dermatitis images3479.jpg\n",
      "Duplicate image deleted: dermatitis images3480.jpg\n",
      "Duplicate image deleted: dermatitis images3481.jpg\n",
      "Duplicate image deleted: dermatitis images3482.jpg\n",
      "Duplicate image deleted: dermatitis images3483.jpg\n",
      "Duplicate image deleted: dermatitis images3484.jpg\n",
      "Duplicate image deleted: dermatitis images3485.jpg\n",
      "Duplicate image deleted: dermatitis images3486.jpg\n",
      "Duplicate image deleted: dermatitis images3487.jpg\n",
      "Duplicate image deleted: dermatitis images3488.jpg\n",
      "Duplicate image deleted: dermatitis images3489.jpg\n",
      "Duplicate image deleted: dermatitis images3490.jpg\n",
      "Duplicate image deleted: dermatitis images3491.jpg\n",
      "Duplicate image deleted: dermatitis images3492.jpg\n",
      "Duplicate image deleted: dermatitis images3493.jpg\n",
      "Duplicate image deleted: dermatitis images3494.jpg\n",
      "Duplicate image deleted: dermatitis images3495.jpg\n",
      "Duplicate image deleted: dermatitis images3496.jpg\n",
      "Duplicate image deleted: dermatitis images3497.jpg\n",
      "Duplicate image deleted: dermatitis images3498.jpg\n",
      "Duplicate image deleted: dermatitis images3499.png\n",
      "Duplicate image deleted: dermatitis images3500.png\n",
      "Duplicate image deleted: dermatitis images3501.jpg\n",
      "Duplicate image deleted: dermatitis images3502.jpg\n",
      "Duplicate image deleted: discoid eczema images3765.jpg\n",
      "Duplicate image deleted: discoid eczema images3836.jpg\n",
      "Duplicate image deleted: discoid eczema images3837.jpg\n",
      "Duplicate image deleted: discoid eczema images3847.jpg\n",
      "Duplicate image deleted: discoid eczema images3848.jpg\n",
      "Duplicate image deleted: hand dermatitis images5927.jpg\n",
      "Duplicate image deleted: hand dermatitis images5956.jpg\n",
      "Duplicate image deleted: nummular dermatitis images8859.jpg\n",
      "Duplicate image deleted: nummular dermatitis images8860.jpg\n",
      "Duplicate image deleted: nummular dermatitis images8861.jpg\n",
      "Duplicate image deleted: nummular dermatitis images8862.jpg\n",
      "Duplicate image deleted: nummular dermatitis images8863.jpg\n",
      "Duplicate image deleted: nummular dermatitis images8864.jpg\n",
      "Duplicate image deleted: nummular dermatitis images8865.jpg\n",
      "Duplicate image deleted: nummular dermatitis images8866.jpg\n",
      "Duplicate image deleted: nummular dermatitis images8867.jpg\n",
      "Duplicate image deleted: nummular dermatitis images8868.jpg\n",
      "Duplicate image deleted: nummular dermatitis images8869.jpg\n",
      "Duplicate image deleted: nummular dermatitis images8870.jpg\n",
      "Duplicate image deleted: nummular dermatitis images8871.jpg\n",
      "Duplicate image deleted: nummular dermatitis images8872.jpg\n",
      "Duplicate image deleted: nummular dermatitis images8873.jpg\n",
      "Duplicate image deleted: nummular dermatitis images8874.jpg\n",
      "Duplicate image deleted: nummular dermatitis images8875.jpg\n",
      "Duplicate image deleted: nummular dermatitis images8876.jpg\n",
      "Duplicate image deleted: nummular dermatitis images8877.jpg\n",
      "Duplicate image deleted: nummular dermatitis images8878.jpg\n",
      "Duplicate image deleted: nummular dermatitis images8879.jpg\n",
      "Duplicate image deleted: nummular dermatitis images8880.jpg\n",
      "Duplicate image deleted: nummular dermatitis images8881.jpg\n",
      "Duplicate image deleted: nummular dermatitis images8882.jpg\n",
      "Duplicate image deleted: nummular dermatitis images8883.jpg\n",
      "Duplicate image deleted: nummular dermatitis images8884.jpg\n",
      "Duplicate image deleted: nummular dermatitis images8885.jpg\n",
      "Duplicate image deleted: nummular dermatitis images8886.jpg\n",
      "Duplicate image deleted: nummular dermatitis images8887.jpg\n",
      "Duplicate image deleted: nummular dermatitis images8888.jpg\n",
      "Duplicate image deleted: nummular dermatitis images8889.jpg\n",
      "Duplicate image deleted: nummular dermatitis images8890.jpg\n",
      "Duplicate image deleted: nummular dermatitis images8891.jpg\n",
      "Duplicate image deleted: nummular dermatitis images8892.jpg\n",
      "Duplicate image deleted: nummular dermatitis images8893.jpg\n",
      "Duplicate image deleted: nummular dermatitis images8894.jpg\n",
      "Duplicate image deleted: nummular dermatitis images8895.jpg\n",
      "Duplicate image deleted: nummular dermatitis images8896.jpg\n",
      "Duplicate image deleted: nummular dermatitis images8897.jpg\n",
      "Duplicate image deleted: nummular dermatitis images8898.jpg\n",
      "Duplicate image deleted: nummular dermatitis images8899.jpg\n",
      "Duplicate image deleted: nummular dermatitis images8900.jpg\n",
      "Duplicate image deleted: nummular dermatitis images8901.jpg\n",
      "Duplicate image deleted: nummular dermatitis images8902.jpg\n",
      "Duplicate image deleted: nummular dermatitis images8903.jpg\n",
      "Duplicate image deleted: nummular dermatitis images8904.jpg\n",
      "Duplicate image deleted: nummular dermatitis images8905.jpg\n",
      "Duplicate image deleted: nummular dermatitis images8906.jpg\n",
      "Duplicate image deleted: nummular dermatitis images8907.jpg\n",
      "Duplicate image deleted: nummular dermatitis images8908.jpg\n",
      "Duplicate image deleted: nummular dermatitis images8909.jpg\n",
      "Duplicate image deleted: nummular dermatitis images8910.jpg\n",
      "Duplicate image deleted: nummular dermatitis images8911.jpg\n",
      "Duplicate image deleted: nummular dermatitis images8912.jpg\n",
      "Duplicate image deleted: nummular dermatitis images8913.jpg\n",
      "Duplicate image deleted: nummular dermatitis images8914.jpg\n",
      "Duplicate image deleted: nummular dermatitis images8915.jpg\n",
      "Duplicate image deleted: nummular dermatitis images8916.jpg\n",
      "Duplicate image deleted: nummular dermatitis images8917.jpg\n",
      "Duplicate image deleted: nummular dermatitis images8918.jpg\n",
      "Duplicate image deleted: nummular dermatitis images8919.jpg\n",
      "Duplicate image deleted: nummular dermatitis images8920.jpg\n",
      "Duplicate image deleted: nummular dermatitis images8921.jpg\n",
      "Duplicate image deleted: nummular dermatitis images8922.jpg\n",
      "Duplicate image deleted: nummular dermatitis images8923.jpg\n",
      "Duplicate image deleted: nummular dermatitis images8924.jpg\n",
      "Duplicate image deleted: nummular dermatitis images8925.jpg\n",
      "Duplicate image deleted: nummular dermatitis images8926.jpg\n",
      "Duplicate image deleted: nummular dermatitis images8927.jpg\n",
      "Duplicate image deleted: nummular dermatitis images8928.jpg\n",
      "Duplicate image deleted: nummular dermatitis images8929.jpg\n",
      "Duplicate image deleted: nummular dermatitis images8930.jpg\n",
      "Duplicate image deleted: nummular dermatitis images8931.jpg\n",
      "Duplicate image deleted: nummular dermatitis images8932.jpg\n",
      "Duplicate image deleted: nummular dermatitis images8933.jpg\n",
      "Duplicate image deleted: nummular dermatitis images8934.jpg\n",
      "Duplicate image deleted: nummular dermatitis images8935.jpg\n",
      "Duplicate image deleted: nummular dermatitis images8936.jpg\n",
      "Duplicate image deleted: nummular dermatitis images8937.jpg\n",
      "Duplicate image deleted: nummular dermatitis images8938.jpg\n",
      "Duplicate image deleted: nummular dermatitis images8939.jpg\n",
      "Duplicate image deleted: nummular dermatitis images8940.jpg\n",
      "Duplicate image deleted: nummular dermatitis images8941.jpg\n",
      "Duplicate image deleted: nummular dermatitis images8942.jpg\n",
      "Duplicate image deleted: nummular dermatitis images8943.jpg\n",
      "Duplicate image deleted: nummular dermatitis images8944.jpg\n",
      "Duplicate image deleted: nummular dermatitis images8945.jpg\n",
      "Duplicate image deleted: nummular dermatitis images8946.jpg\n",
      "Duplicate image deleted: nummular dermatitis images8947.jpg\n",
      "Duplicate image deleted: nummular dermatitis images8948.jpg\n",
      "Duplicate image deleted: nummular dermatitis images8949.jpg\n",
      "Duplicate image deleted: nummular dermatitis images8950.jpg\n",
      "Duplicate image deleted: nummular dermatitis images8951.jpg\n",
      "Duplicate image deleted: nummular dermatitis images8952.jpg\n",
      "Duplicate image deleted: nummular dermatitis images8953.jpg\n",
      "Duplicate image deleted: nummular dermatitis images8954.jpg\n",
      "Duplicate image deleted: nummular dermatitis images8955.jpg\n",
      "Duplicate image deleted: nummular dermatitis images8956.jpg\n",
      "Duplicate image deleted: nummular dermatitis images8957.jpg\n",
      "Duplicate image deleted: nummular dermatitis images8958.jpg\n",
      "Duplicate image deleted: nummular dermatitis images8959.jpg\n",
      "Duplicate image deleted: nummular dermatitis images8960.jpg\n",
      "Duplicate image deleted: nummular dermatitis images8961.jpg\n",
      "Duplicate image deleted: nummular dermatitis images8962.jpg\n",
      "Duplicate image deleted: nummular dermatitis images8963.jpg\n",
      "Duplicate image deleted: nummular dermatitis images8964.jpg\n",
      "Duplicate image deleted: nummular dermatitis images8965.jpg\n",
      "Duplicate image deleted: nummular dermatitis images8966.jpg\n",
      "Duplicate image deleted: nummular dermatitis images8967.jpg\n",
      "Duplicate image deleted: nummular dermatitis images8968.jpg\n",
      "Duplicate image deleted: nummular dermatitis images8969.jpg\n",
      "Duplicate image deleted: nummular dermatitis images8970.jpg\n",
      "Duplicate image deleted: nummular dermatitis images8971.jpg\n",
      "Duplicate image deleted: nummular dermatitis images8972.jpg\n",
      "Duplicate image deleted: nummular dermatitis images8973.jpg\n",
      "Duplicate image deleted: nummular dermatitis images8974.jpg\n",
      "Duplicate image deleted: nummular dermatitis images8975.jpg\n",
      "Duplicate image deleted: nummular dermatitis images8976.jpg\n",
      "Duplicate image deleted: nummular dermatitis images8977.jpg\n",
      "Duplicate image deleted: nummular dermatitis images8978.jpg\n",
      "Duplicate image deleted: nummular dermatitis images8979.jpg\n",
      "Duplicate image deleted: nummular dermatitis images8980.jpg\n",
      "Duplicate image deleted: nummular dermatitis images8981.jpg\n",
      "Duplicate image deleted: nummular dermatitis images8982.jpg\n",
      "Duplicate image deleted: nummular dermatitis images8983.jpg\n",
      "Duplicate image deleted: nummular dermatitis images8984.png\n",
      "Duplicate image deleted: nummular dermatitis images8985.png\n",
      "Duplicate image deleted: nummular dermatitis images8986.png\n",
      "Duplicate image deleted: nummular dermatitis images8987.png\n",
      "Duplicate image deleted: nummular dermatitis images8988.png\n",
      "Duplicate image deleted: nummular dermatitis images8989.png\n"
     ]
    }
   ],
   "source": [
    "# Define a threshold for image similarity\n",
    "threshold = 8\n",
    "\n",
    "\n",
    "# Define a dictionary to store the hash values and file paths of the images\n",
    "image_hashes = {}\n",
    "duplicated_images = []\n",
    "# Loop through all the image files in a directory\n",
    "for filename in os.listdir(\"eczema_images\"):\n",
    "    # Load the image file\n",
    "    image = Image.open(os.path.join(\"eczema_images\", filename))\n",
    "\n",
    "    # Compute the hash value of the image using the average hash algorithm\n",
    "    hash_value = imagehash.average_hash(image)\n",
    "\n",
    "    # Check if the hash value is already in the dictionary\n",
    "    if hash_value in image_hashes:\n",
    "        # If a similar hash value already exists, delete the duplicate image\n",
    "        duplicated_images.append(filename)\n",
    "        os.remove(os.path.join(\"eczema_images\", filename))\n",
    "        print(f\"Duplicate image deleted: {filename}\")\n",
    "    else:\n",
    "        # Otherwise, add the hash value and file path to the dictionary\n",
    "        image_hashes[hash_value] = os.path.join(\"eczema_images\", filename)"
   ]
  },
  {
   "cell_type": "code",
   "execution_count": 22,
   "metadata": {},
   "outputs": [
    {
     "name": "stdout",
     "output_type": "stream",
     "text": [
      "There are 314 eczema images after removing duplicated images\n"
     ]
    }
   ],
   "source": [
    "eczema_img = [image_name for image_name in os.listdir('eczema_images/')] \n",
    "print('There are', len(eczema_img),'eczema images after removing duplicated images')"
   ]
  },
  {
   "cell_type": "code",
   "execution_count": 23,
   "metadata": {},
   "outputs": [
    {
     "data": {
      "text/plain": [
       "[1147, 1148, 1149, 1150, 1151, 1152, 1153, 1154, 1155, 1156]"
      ]
     },
     "execution_count": 23,
     "metadata": {},
     "output_type": "execute_result"
    }
   ],
   "source": [
    "# Getting the indexes of the duplicated images so that they can be dropped from the eczema_df too.\n",
    "duplicated_indexes = []\n",
    "for img_name in duplicated_images:\n",
    "    match = re.search(r'\\d+', img_name)\n",
    "    if match:\n",
    "        number = match.group()\n",
    "        duplicated_indexes.append(int(number))\n",
    "duplicated_indexes[:10]"
   ]
  },
  {
   "cell_type": "code",
   "execution_count": 25,
   "metadata": {},
   "outputs": [
    {
     "name": "stdout",
     "output_type": "stream",
     "text": [
      "<class 'pandas.core.frame.DataFrame'>\n",
      "Int64Index: 314 entries, 1058 to 5964\n",
      "Data columns (total 2 columns):\n",
      " #   Column              Non-Null Count  Dtype \n",
      "---  ------              --------------  ----- \n",
      " 0   skin_disorder_name  314 non-null    object\n",
      " 1   images              314 non-null    object\n",
      "dtypes: object(2)\n",
      "memory usage: 7.4+ KB\n"
     ]
    }
   ],
   "source": [
    "# Dropping duplicated images from the dataframe.\n",
    "eczema_df = eczema_df.copy()\n",
    "eczema_df.drop(duplicated_indexes, axis=0, inplace=True)\n",
    "eczema_df.info()"
   ]
  }
 ],
 "metadata": {
  "kernelspec": {
   "display_name": "learn-env",
   "language": "python",
   "name": "learn-env"
  },
  "language_info": {
   "codemirror_mode": {
    "name": "ipython",
    "version": 3
   },
   "file_extension": ".py",
   "mimetype": "text/x-python",
   "name": "python",
   "nbconvert_exporter": "python",
   "pygments_lexer": "ipython3",
   "version": "3.8.5"
  },
  "orig_nbformat": 4
 },
 "nbformat": 4,
 "nbformat_minor": 2
}
